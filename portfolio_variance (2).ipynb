{
 "cells": [
  {
   "cell_type": "code",
   "execution_count": 2,
   "id": "96762c0f-02e7-461a-89bc-a3e6fe0579ef",
   "metadata": {},
   "outputs": [
    {
     "data": {
      "text/plain": [
       "'\\nseveral strategies code in python to Portfolio Variance.\\nThese methods provide a comprehensive set of tools to analyze and understand any portfolio better.\\n'"
      ]
     },
     "execution_count": 2,
     "metadata": {},
     "output_type": "execute_result"
    }
   ],
   "source": [
    "'''\n",
    "Several strategies code in python to Portfolio Variance.\n",
    "These methods provide a comprehensive set of tools to analyze and understand any portfolio better.\n",
    "'''"
   ]
  },
  {
   "cell_type": "code",
   "execution_count": 4,
   "id": "78d843e5-2f4b-4364-a26d-28b24cdf98f4",
   "metadata": {},
   "outputs": [
    {
     "name": "stdout",
     "output_type": "stream",
     "text": [
      "Portfolio Variance: 0.05659999999999999\n"
     ]
    }
   ],
   "source": [
    "import numpy as np\n",
    "\n",
    "def portfolio_variance(weights, cov_matrix):\n",
    "    \"\"\"\n",
    "    Calculate the portfolio variance.\n",
    "    \n",
    "    Parameters:\n",
    "    - weights: array of portfolio weights\n",
    "    - cov_matrix: covariance matrix of asset returns\n",
    "    \n",
    "    Returns:\n",
    "    - variance: portfolio variance\n",
    "    \"\"\"\n",
    "    variance = np.dot(weights.T, np.dot(cov_matrix, weights))\n",
    "    return variance\n",
    "\n",
    "# Example usage\n",
    "weights = np.array([0.3, 0.5, 0.2])  # Portfolio weights\n",
    "cov_matrix = np.array([[0.1, 0.02, 0.04], [0.02, 0.08, 0.06], [0.04, 0.06, 0.12]])  # Covariance matrix\n",
    "\n",
    "portfolio_var = portfolio_variance(weights, cov_matrix)\n",
    "print(f\"Portfolio Variance: {portfolio_var}\")\n"
   ]
  },
  {
   "cell_type": "code",
   "execution_count": 6,
   "id": "dc8ec25a-74d1-4722-b2fa-e8bb76e717d0",
   "metadata": {},
   "outputs": [
    {
     "name": "stdout",
     "output_type": "stream",
     "text": [
      "Simulated Portfolio Variance (mean): 0.4134629412472669\n"
     ]
    }
   ],
   "source": [
    "import numpy as np\n",
    "\n",
    "def monte_carlo_portfolio_variance(returns, num_simulations=10000):\n",
    "    \"\"\"\n",
    "    Calculate portfolio variance using Monte Carlo simulation.\n",
    "    \n",
    "    Parameters:\n",
    "    - returns: matrix of asset returns\n",
    "    - num_simulations: number of simulations to run\n",
    "    \n",
    "    Returns:\n",
    "    - simulated_variances: array of simulated portfolio variances\n",
    "    \"\"\"\n",
    "    num_assets = returns.shape[1]\n",
    "    simulated_variances = []\n",
    "\n",
    "    for _ in range(num_simulations):\n",
    "        weights = np.random.random(num_assets)\n",
    "        weights /= np.sum(weights)\n",
    "        cov_matrix = np.cov(returns, rowvar=False)\n",
    "        variance = np.dot(weights.T, np.dot(cov_matrix, weights))\n",
    "        simulated_variances.append(variance)\n",
    "\n",
    "    return np.array(simulated_variances)\n",
    "\n",
    "# Example usage\n",
    "returns = np.random.randn(1000, 3)  # Simulated asset returns\n",
    "simulated_var = monte_carlo_portfolio_variance(returns)\n",
    "print(f\"Simulated Portfolio Variance (mean): {np.mean(simulated_var)}\")\n"
   ]
  },
  {
   "cell_type": "code",
   "execution_count": 7,
   "id": "ce42f378-9c91-4648-bc8d-947e865b1ec6",
   "metadata": {},
   "outputs": [
    {
     "name": "stdout",
     "output_type": "stream",
     "text": [
      "Historical Portfolio Variance: 0.012024662173817076\n"
     ]
    }
   ],
   "source": [
    "import numpy as np\n",
    "import pandas as pd\n",
    "\n",
    "def historical_portfolio_variance(weights, returns):\n",
    "    \"\"\"\n",
    "    Calculate portfolio variance using historical data.\n",
    "    \n",
    "    Parameters:\n",
    "    - weights: array of portfolio weights\n",
    "    - returns: DataFrame of asset returns\n",
    "    \n",
    "    Returns:\n",
    "    - variance: portfolio variance\n",
    "    \"\"\"\n",
    "    cov_matrix = returns.cov()\n",
    "    variance = np.dot(weights.T, np.dot(cov_matrix, weights))\n",
    "    return variance\n",
    "\n",
    "# Example usage\n",
    "data = {\n",
    "    'Asset1': np.random.normal(0.1, 0.2, 1000),\n",
    "    'Asset2': np.random.normal(0.2, 0.15, 1000),\n",
    "    'Asset3': np.random.normal(0.15, 0.25, 1000)\n",
    "}\n",
    "returns = pd.DataFrame(data)\n",
    "\n",
    "weights = np.array([0.4, 0.4, 0.2])\n",
    "portfolio_var = historical_portfolio_variance(weights, returns)\n",
    "print(f\"Historical Portfolio Variance: {portfolio_var}\")\n"
   ]
  },
  {
   "cell_type": "code",
   "execution_count": 10,
   "id": "4a7a8af5-34f7-477b-b44d-4c2b043179e0",
   "metadata": {},
   "outputs": [
    {
     "name": "stdout",
     "output_type": "stream",
     "text": [
      "Optimized Portfolio Weights: [0.32441427 0.33529037 0.34029537]\n"
     ]
    }
   ],
   "source": [
    "import numpy as np\n",
    "from scipy.optimize import minimize\n",
    "\n",
    "def optimize_portfolio(returns):\n",
    "    \"\"\"\n",
    "    Optimize portfolio to minimize variance.\n",
    "    \n",
    "    Parameters:\n",
    "    - returns: matrix of asset returns\n",
    "    \n",
    "    Returns:\n",
    "    - optimized_weights: array of optimized portfolio weights\n",
    "    \"\"\"\n",
    "    cov_matrix = np.cov(returns, rowvar=False)\n",
    "    num_assets = returns.shape[1]\n",
    "\n",
    "    def portfolio_variance(weights):\n",
    "        return np.dot(weights.T, np.dot(cov_matrix, weights))\n",
    "\n",
    "    constraints = ({'type': 'eq', 'fun': lambda x: np.sum(x) - 1})\n",
    "    bounds = tuple((0, 1) for asset in range(num_assets))\n",
    "    initial_guess = num_assets * [1. / num_assets]\n",
    "\n",
    "    result = minimize(portfolio_variance, initial_guess, bounds=bounds, constraints=constraints)\n",
    "    optimized_weights = result.x\n",
    "\n",
    "    return optimized_weights\n",
    "\n",
    "# Example usage\n",
    "returns = np.random.randn(1000, 3)  # Simulated asset returns\n",
    "optimized_weights = optimize_portfolio(returns)\n",
    "print(f\"Optimized Portfolio Weights: {optimized_weights}\")\n"
   ]
  },
  {
   "cell_type": "code",
   "execution_count": 11,
   "id": "9bac7f68-2f4a-4da0-a7df-9fea36581db4",
   "metadata": {},
   "outputs": [
    {
     "name": "stdout",
     "output_type": "stream",
     "text": [
      "Sharpe Ratio: -1.0247147248245183\n"
     ]
    }
   ],
   "source": [
    "import numpy as np\n",
    "\n",
    "def sharpe_ratio(returns, risk_free_rate=0.0):\n",
    "    excess_returns = returns - risk_free_rate\n",
    "    return np.mean(excess_returns) / np.std(excess_returns)\n",
    "\n",
    "# Example usage\n",
    "returns = np.random.randn(1000) * 0.01  # Simulated daily returns\n",
    "sr = sharpe_ratio(returns, risk_free_rate=0.01)\n",
    "print(f\"Sharpe Ratio: {sr}\")\n"
   ]
  },
  {
   "cell_type": "code",
   "execution_count": 12,
   "id": "3f406276-b086-4876-95fb-7c573a847178",
   "metadata": {},
   "outputs": [
    {
     "name": "stdout",
     "output_type": "stream",
     "text": [
      "Sortino Ratio: -1.5771903003449756\n"
     ]
    }
   ],
   "source": [
    "import numpy as np\n",
    "\n",
    "def sortino_ratio(returns, risk_free_rate=0.0):\n",
    "    downside_returns = returns[returns < 0]\n",
    "    excess_returns = returns - risk_free_rate\n",
    "    return np.mean(excess_returns) / np.std(downside_returns)\n",
    "\n",
    "# Example usage\n",
    "returns = np.random.randn(1000) * 0.01  # Simulated daily returns\n",
    "sr = sortino_ratio(returns, risk_free_rate=0.01)\n",
    "print(f\"Sortino Ratio: {sr}\")\n"
   ]
  },
  {
   "cell_type": "code",
   "execution_count": 13,
   "id": "40f7b36d-374e-4bbf-b396-cae4871d5cf6",
   "metadata": {},
   "outputs": [
    {
     "name": "stdout",
     "output_type": "stream",
     "text": [
      "Treynor Ratio: -1.1729807815188646\n"
     ]
    }
   ],
   "source": [
    "import numpy as np\n",
    "\n",
    "def treynor_ratio(returns, market_returns, risk_free_rate=0.0):\n",
    "    beta = np.cov(returns, market_returns)[0, 1] / np.var(market_returns)\n",
    "    excess_returns = returns - risk_free_rate\n",
    "    return np.mean(excess_returns) / beta\n",
    "\n",
    "# Example usage\n",
    "returns = np.random.randn(1000) * 0.01  # Simulated daily returns\n",
    "market_returns = np.random.randn(1000) * 0.01  # Simulated market returns\n",
    "tr = treynor_ratio(returns, market_returns, risk_free_rate=0.01)\n",
    "print(f\"Treynor Ratio: {tr}\")\n"
   ]
  },
  {
   "cell_type": "code",
   "execution_count": 14,
   "id": "6c5f48a6-d5b4-47c2-a67b-8e3bda733270",
   "metadata": {},
   "outputs": [
    {
     "name": "stdout",
     "output_type": "stream",
     "text": [
      "Maximum Drawdown: 0.22682096356352338\n"
     ]
    }
   ],
   "source": [
    "import numpy as np\n",
    "\n",
    "def max_drawdown(prices):\n",
    "    peak = prices[0]\n",
    "    drawdowns = []\n",
    "    for price in prices:\n",
    "        if price > peak:\n",
    "            peak = price\n",
    "        drawdown = (peak - price) / peak\n",
    "        drawdowns.append(drawdown)\n",
    "    return max(drawdowns)\n",
    "\n",
    "# Example usage\n",
    "prices = np.cumprod(1 + np.random.randn(1000) * 0.01)  # Simulated prices\n",
    "md = max_drawdown(prices)\n",
    "print(f\"Maximum Drawdown: {md}\")\n"
   ]
  },
  {
   "cell_type": "code",
   "execution_count": 15,
   "id": "36984d15-df9a-4491-9af8-21779636e87a",
   "metadata": {},
   "outputs": [
    {
     "name": "stdout",
     "output_type": "stream",
     "text": [
      "Expected Return: 0.116\n"
     ]
    }
   ],
   "source": [
    "import numpy as np\n",
    "\n",
    "def capm(expected_market_return, beta, risk_free_rate=0.0):\n",
    "    return risk_free_rate + beta * (expected_market_return - risk_free_rate)\n",
    "\n",
    "# Example usage\n",
    "expected_market_return = 0.10  # Expected annual market return\n",
    "beta = 1.2  # Beta of the asset\n",
    "risk_free_rate = 0.02  # Risk-free rate\n",
    "expected_return = capm(expected_market_return, beta, risk_free_rate)\n",
    "print(f\"Expected Return: {expected_return}\")\n"
   ]
  },
  {
   "cell_type": "code",
   "execution_count": 16,
   "id": "fe4481f6-87d8-4aae-9aa5-f6948f619153",
   "metadata": {},
   "outputs": [
    {
     "name": "stdout",
     "output_type": "stream",
     "text": [
      "Alpha: 0.01999999999999999\n"
     ]
    }
   ],
   "source": [
    "import numpy as np\n",
    "\n",
    "def alpha(actual_return, expected_return):\n",
    "    return actual_return - expected_return\n",
    "\n",
    "# Example usage\n",
    "actual_return = 0.12  # Actual return of the portfolio\n",
    "expected_return = 0.10  # Expected return based on CAPM\n",
    "a = alpha(actual_return, expected_return)\n",
    "print(f\"Alpha: {a}\")\n"
   ]
  },
  {
   "cell_type": "code",
   "execution_count": 17,
   "id": "0f7a1cdc-7f27-44a3-8bc8-cd3b92688d54",
   "metadata": {},
   "outputs": [
    {
     "name": "stdout",
     "output_type": "stream",
     "text": [
      "Beta: 0.033984834847930655\n"
     ]
    }
   ],
   "source": [
    "import numpy as np\n",
    "\n",
    "def calculate_beta(asset_returns, market_returns):\n",
    "    covariance = np.cov(asset_returns, market_returns)[0, 1]\n",
    "    market_variance = np.var(market_returns)\n",
    "    return covariance / market_variance\n",
    "\n",
    "# Example usage\n",
    "asset_returns = np.random.randn(1000) * 0.01  # Simulated daily returns\n",
    "market_returns = np.random.randn(1000) * 0.01  # Simulated market returns\n",
    "b = calculate_beta(asset_returns, market_returns)\n",
    "print(f\"Beta: {b}\")\n"
   ]
  },
  {
   "cell_type": "code",
   "execution_count": 18,
   "id": "188e84e3-0448-4dcf-986e-c53d3f3d3053",
   "metadata": {},
   "outputs": [
    {
     "name": "stdout",
     "output_type": "stream",
     "text": [
      "Information Ratio: -0.0010396519637292541\n"
     ]
    }
   ],
   "source": [
    "import numpy as np\n",
    "\n",
    "def information_ratio(returns, benchmark_returns):\n",
    "    excess_returns = returns - benchmark_returns\n",
    "    return np.mean(excess_returns) / np.std(excess_returns)\n",
    "\n",
    "# Example usage\n",
    "returns = np.random.randn(1000) * 0.01  # Simulated daily returns\n",
    "benchmark_returns = np.random.randn(1000) * 0.01  # Simulated benchmark returns\n",
    "ir = information_ratio(returns, benchmark_returns)\n",
    "print(f\"Information Ratio: {ir}\")\n"
   ]
  },
  {
   "cell_type": "code",
   "execution_count": 28,
   "id": "7f5f2c47-231d-46ce-9d0c-f7c8984c69a4",
   "metadata": {},
   "outputs": [
    {
     "name": "stdout",
     "output_type": "stream",
     "text": [
      "Tracking Error: 0.01447765445542069\n"
     ]
    }
   ],
   "source": [
    "import numpy as np\n",
    "\n",
    "def tracking_error(returns, benchmark_returns):\n",
    "    excess_returns = returns - benchmark_returns\n",
    "    return np.std(excess_returns)\n",
    "\n",
    "# Example usage\n",
    "returns = np.random.randn(1000) * 0.01  # Simulated daily returns\n",
    "benchmark_returns = np.random.randn(1000) * 0.01  # Simulated benchmark returns\n",
    "te = tracking_error(returns, benchmark_returns)\n",
    "print(f\"Tracking Error: {te}\")\n"
   ]
  },
  {
   "cell_type": "code",
   "execution_count": 30,
   "id": "39abeab8-78dc-4d94-923a-60405f8d3d54",
   "metadata": {},
   "outputs": [
    {
     "name": "stdout",
     "output_type": "stream",
     "text": [
      "Omega Ratio: 0.08897521776759759\n"
     ]
    }
   ],
   "source": [
    "import numpy as np\n",
    "\n",
    "def omega_ratio(returns, threshold):\n",
    "    gains = returns[returns > threshold] - threshold\n",
    "    losses = threshold - returns[returns < threshold]\n",
    "    return np.sum(gains) / np.sum(losses)\n",
    "\n",
    "# Example usage\n",
    "returns = np.random.randn(1000) * 0.01  # Simulated daily returns\n",
    "threshold = 0.01  # Threshold return\n",
    "oratio = omega_ratio(returns, threshold)\n",
    "print(f\"Omega Ratio: {oratio}\")\n"
   ]
  },
  {
   "cell_type": "code",
   "execution_count": null,
   "id": "3ead6876-dbe4-40de-9c03-438565634df7",
   "metadata": {},
   "outputs": [],
   "source": []
  },
  {
   "cell_type": "code",
   "execution_count": null,
   "id": "1e956561-0e95-407d-8e8f-8eea91afc25f",
   "metadata": {},
   "outputs": [],
   "source": []
  },
  {
   "cell_type": "code",
   "execution_count": null,
   "id": "8463fd0e-5cd1-49eb-94ca-e29c42eff257",
   "metadata": {},
   "outputs": [],
   "source": []
  },
  {
   "cell_type": "code",
   "execution_count": null,
   "id": "e024cb71-2f75-4791-968a-8198acb40725",
   "metadata": {},
   "outputs": [],
   "source": []
  },
  {
   "cell_type": "code",
   "execution_count": null,
   "id": "54afbf27-ba16-4c53-9007-46bc6c78c9ca",
   "metadata": {},
   "outputs": [],
   "source": []
  },
  {
   "cell_type": "code",
   "execution_count": null,
   "id": "8739a155-7830-45cd-98ca-19cf5552d987",
   "metadata": {},
   "outputs": [],
   "source": []
  }
 ],
 "metadata": {
  "kernelspec": {
   "display_name": "Python 3 (ipykernel)",
   "language": "python",
   "name": "python3"
  },
  "language_info": {
   "codemirror_mode": {
    "name": "ipython",
    "version": 3
   },
   "file_extension": ".py",
   "mimetype": "text/x-python",
   "name": "python",
   "nbconvert_exporter": "python",
   "pygments_lexer": "ipython3",
   "version": "3.11.5"
  }
 },
 "nbformat": 4,
 "nbformat_minor": 5
}
